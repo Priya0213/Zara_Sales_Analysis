{
 "cells": [
  {
   "cell_type": "code",
   "execution_count": null,
   "id": "fc543c5f-9a74-4da0-b104-588558710362",
   "metadata": {},
   "outputs": [],
   "source": []
  },
  {
   "cell_type": "code",
   "execution_count": null,
   "id": "6fd73555-381d-4c06-a295-694bbe99895f",
   "metadata": {},
   "outputs": [],
   "source": [
    "# This Python 3 environment comes with many helpful analytics libraries installed\n",
    "# It is defined by the kaggle/python Docker image: https://github.com/kaggle/docker-python\n",
    "# For example, here's several helpful packages to load"
   ]
  },
  {
   "cell_type": "markdown",
   "id": "79058bff-83dc-41aa-8e6e-961491c56286",
   "metadata": {},
   "source": [
    "# Import Modules"
   ]
  },
  {
   "cell_type": "code",
   "execution_count": null,
   "id": "40e3e4af-2d88-4828-a2b3-05fdd959cbb7",
   "metadata": {},
   "outputs": [],
   "source": [
    "import numpy as np  #linear algebra\n",
    "import pandas as pd  #data preprocessing, csv file I/O (e.g. pd.read_csv)\n",
    "import seaborn as sns\n",
    "import matplotlib.pyplot as plt\n",
    "import plotly.express as px \n",
    "%matplotlib inline\n",
    "\n",
    "import warnings\n",
    "warnings.filterwarnings('ignore')"
   ]
  },
  {
   "cell_type": "markdown",
   "id": "d51738c5-4db0-4374-8688-6d5f4503f74d",
   "metadata": {},
   "source": [
    "# Loading Dataset"
   ]
  },
  {
   "cell_type": "code",
   "execution_count": null,
   "id": "435f4112-5a95-4a15-9ba5-4a5c42003345",
   "metadata": {},
   "outputs": [],
   "source": [
    "df = pd.read_csv(r'E:\\PROJECTS(P)\\Practicing\\Zara Sales Analysis\\Dataset_1.csv', sep = \";\")"
   ]
  },
  {
   "cell_type": "markdown",
   "id": "fdb15faf-49fe-4bce-952a-608ae5d275d3",
   "metadata": {},
   "source": [
    "# EDA (Exploratory Data Analysis)"
   ]
  },
  {
   "cell_type": "code",
   "execution_count": null,
   "id": "33536834-b073-46bc-bb13-2bcf0e678a90",
   "metadata": {},
   "outputs": [],
   "source": [
    "#view top 5 rows\n",
    "df.head()"
   ]
  },
  {
   "cell_type": "code",
   "execution_count": null,
   "id": "6e1210d5-9c0b-4e8d-bb46-fbe71cf3beab",
   "metadata": {},
   "outputs": [],
   "source": [
    "#view last 5 rows\n",
    "df.tail()"
   ]
  },
  {
   "cell_type": "code",
   "execution_count": null,
   "id": "756f5509-d38f-4995-bdd8-f38652e8b41f",
   "metadata": {},
   "outputs": [],
   "source": [
    "#check for no. of rows and columns\n",
    "df.shape"
   ]
  },
  {
   "cell_type": "code",
   "execution_count": null,
   "id": "91141380-e426-41da-8fc7-31f7eb5d4b27",
   "metadata": {},
   "outputs": [],
   "source": [
    "print(df.head(10))"
   ]
  },
  {
   "cell_type": "code",
   "execution_count": null,
   "id": "e498c56c-6542-41e6-882c-c0360536eb07",
   "metadata": {},
   "outputs": [],
   "source": []
  },
  {
   "cell_type": "code",
   "execution_count": null,
   "id": "9c695ba0-8bf4-4c2b-8aa7-d5013b232f43",
   "metadata": {},
   "outputs": [],
   "source": [
    "#summary of datatype\n",
    "df.info()"
   ]
  },
  {
   "cell_type": "code",
   "execution_count": null,
   "id": "d9f47c1a-e529-41f9-8edb-6d94d8e9dde8",
   "metadata": {},
   "outputs": [],
   "source": [
    "#statistical summary of numerical values\n",
    "df.describe()"
   ]
  },
  {
   "cell_type": "code",
   "execution_count": null,
   "id": "8a1f51c7-b95e-4a09-9898-a9945f894db1",
   "metadata": {},
   "outputs": [],
   "source": [
    "#checking missing values\n",
    "df.isnull().sum()"
   ]
  },
  {
   "cell_type": "code",
   "execution_count": null,
   "id": "1dc16e99-14c6-4f05-aa81-b763edf71358",
   "metadata": {},
   "outputs": [],
   "source": [
    "#handling missing values\n",
    "df = df.dropna(subset=['name','description'])"
   ]
  },
  {
   "cell_type": "code",
   "execution_count": null,
   "id": "145fcd7b-67e7-46ba-833a-948f838ab56e",
   "metadata": {},
   "outputs": [],
   "source": [
    "df[['name','description']].isnull().sum()"
   ]
  },
  {
   "cell_type": "code",
   "execution_count": null,
   "id": "74fc931a-892b-4318-9620-6c32968fd5c4",
   "metadata": {},
   "outputs": [],
   "source": [
    "#missing values gone\n",
    "df.isnull().sum()"
   ]
  },
  {
   "cell_type": "code",
   "execution_count": null,
   "id": "1ca45c79-e80f-49a3-9ca8-515f7c87f926",
   "metadata": {},
   "outputs": [],
   "source": [
    "#checking no. of unique values in each column\n",
    "df.nunique()"
   ]
  },
  {
   "cell_type": "code",
   "execution_count": null,
   "id": "f8287e3e-01e6-466b-aee3-67c4bd873539",
   "metadata": {},
   "outputs": [],
   "source": [
    "df.section.unique()"
   ]
  },
  {
   "cell_type": "markdown",
   "id": "35ae0bdf-2ca3-450d-bfd2-e2f68348b6f0",
   "metadata": {},
   "source": [
    "# Data Visualization"
   ]
  },
  {
   "cell_type": "code",
   "execution_count": null,
   "id": "501d9cc8-2543-49d2-b16a-e85854bba153",
   "metadata": {},
   "outputs": [],
   "source": [
    "!pip install plotly"
   ]
  },
  {
   "cell_type": "markdown",
   "id": "4c548b52-9622-48bc-b0e3-0cc40a8bb86b",
   "metadata": {},
   "source": [
    "## Visualization Sales with gender"
   ]
  },
  {
   "cell_type": "code",
   "execution_count": null,
   "id": "3de00ad8-c082-45a6-a4db-d4988729d41e",
   "metadata": {},
   "outputs": [],
   "source": [
    "fig = px.histogram(\n",
    "    x = 'section',\n",
    "    y = 'Sales Volume',\n",
    "    data_frame = df,\n",
    "    title = 'Sales Volume Comparison by Gender',\n",
    "    color = 'section',\n",
    "    color_discrete_sequence = px.colors.qualitative.Prism,\n",
    "    template = 'plotly_dark',\n",
    "    labels = {\n",
    "        'section': 'Gender of Customer'}\n",
    ")\n",
    "fig.show()"
   ]
  },
  {
   "cell_type": "markdown",
   "id": "b14c658c-2f37-4c7b-ab08-bc49510c156e",
   "metadata": {},
   "source": [
    "## Visualization Sales Volume with Product Position"
   ]
  },
  {
   "cell_type": "code",
   "execution_count": null,
   "id": "a8567ca6-7143-42bc-b671-e5889b72ec10",
   "metadata": {},
   "outputs": [],
   "source": [
    "fig = px.histogram(\n",
    "    x = 'Product Position',\n",
    "    y = 'Sales Volume',\n",
    "    data_frame = df,\n",
    "    title = 'Sales Volume Comparison by Product Position',\n",
    "    color = 'Product Position',\n",
    "    color_discrete_sequence = px.colors.qualitative.Prism,\n",
    "    template = 'plotly_dark',\n",
    ")\n",
    "fig.show()"
   ]
  },
  {
   "cell_type": "markdown",
   "id": "2b4992be-e59a-4e4b-a13f-27db2c26def7",
   "metadata": {},
   "source": [
    "## Visualization Sales Volume with Seasonals"
   ]
  },
  {
   "cell_type": "code",
   "execution_count": null,
   "id": "f41a2841-adc7-4878-8cef-6a68c03f1397",
   "metadata": {},
   "outputs": [],
   "source": [
    "fig = px.histogram (\n",
    "    x = 'Seasonal',\n",
    "    y = 'Sales Volume',\n",
    "    data_frame = df,\n",
    "    title = 'Sales Volume Comparison by Seasonals',\n",
    "    color = 'Seasonal',\n",
    "    color_discrete_sequence = px.colors.qualitative.Prism,\n",
    "    template = 'plotly_dark',\n",
    ")\n",
    "fig.show()"
   ]
  },
  {
   "cell_type": "markdown",
   "id": "0418fe09-e4f5-4f04-93d2-8fe65e1d2edf",
   "metadata": {},
   "source": [
    "## Distribution of Sales Volume by Price"
   ]
  },
  {
   "cell_type": "code",
   "execution_count": null,
   "id": "15406825-0566-4973-b79b-7f1aa6f608a0",
   "metadata": {},
   "outputs": [],
   "source": [
    "fig = px.histogram(\n",
    "    x = 'price',\n",
    "    y = 'Sales Volume',\n",
    "    data_frame = df,\n",
    "    title = 'Sales Volume Comparison by Price',\n",
    "    color = 'price',\n",
    "    color_discrete_sequence = px.colors.qualitative.Prism,\n",
    "    template = 'plotly_dark'\n",
    ")\n",
    "fig.show()"
   ]
  },
  {
   "cell_type": "markdown",
   "id": "fa10b35b-25da-447d-9b22-00ccecae0edf",
   "metadata": {},
   "source": [
    "## Distribution of Sales Volume Comparison by Category"
   ]
  },
  {
   "cell_type": "code",
   "execution_count": null,
   "id": "e025ffca-a2d5-4b4e-b1fb-77da8c11f218",
   "metadata": {},
   "outputs": [],
   "source": [
    "fig = px.histogram(\n",
    "    x = 'terms',\n",
    "    y = 'Sales Volume',\n",
    "    data_frame = df,\n",
    "    title = 'Sales Volume Comparison by Category',\n",
    "    color = 'terms',\n",
    "    color_discrete_sequence = px.colors.qualitative.Prism,\n",
    "    template = 'plotly_dark'\n",
    ")\n",
    "fig.show()"
   ]
  },
  {
   "cell_type": "markdown",
   "id": "e40632a8-7abc-43c6-a6c1-c87c859b9e3d",
   "metadata": {},
   "source": [
    "## Price Comparison by Category"
   ]
  },
  {
   "cell_type": "code",
   "execution_count": null,
   "id": "ca6ec840-2db0-4d85-8ce8-d63b6a0e5981",
   "metadata": {},
   "outputs": [],
   "source": [
    "fig = px.histogram(\n",
    "    x ='terms',\n",
    "    y = 'price',\n",
    "    data_frame = df,\n",
    "    title = 'Price Comparison by Category',\n",
    "    color = 'terms',\n",
    "    color_discrete_sequence = px.colors.qualitative.Prism,\n",
    "    template = 'plotly_dark'\n",
    ")\n",
    "fig.show()"
   ]
  },
  {
   "cell_type": "markdown",
   "id": "419827e4-b8d2-45c9-90b9-fc8b27489c2b",
   "metadata": {},
   "source": [
    "## Visualization of Sales Volume by Promotion  "
   ]
  },
  {
   "cell_type": "code",
   "execution_count": null,
   "id": "5ce4fadf-7ebd-4aa0-a8bd-2a5e76b01451",
   "metadata": {},
   "outputs": [],
   "source": [
    "fig = px.histogram(\n",
    "    x = 'Promotion',\n",
    "    y = 'Sales Volume',\n",
    "    data_frame = df,\n",
    "    title = 'Sales Volume Comparison by Promotion',\n",
    "    color = 'Promotion',\n",
    "    color_discrete_sequence = px.colors.qualitative.Prism,\n",
    "    template = 'plotly_dark'\n",
    ")\n",
    "fig.show()"
   ]
  },
  {
   "cell_type": "markdown",
   "id": "32ac3fae-68c9-4308-9e53-10873fa079bf",
   "metadata": {},
   "source": [
    "## Visualization of Sales Volume by Name"
   ]
  },
  {
   "cell_type": "code",
   "execution_count": null,
   "id": "95be3454-347d-4502-bfb1-80df0003fa5e",
   "metadata": {},
   "outputs": [],
   "source": [
    "fig = px.histogram(\n",
    "    x = 'name',\n",
    "    y = 'Sales Volume',\n",
    "    data_frame = df,\n",
    "    title = 'Sales Volume Comparison by Product Name',\n",
    "    color = 'name',\n",
    "    color_discrete_sequence = px.colors.qualitative.Prism,\n",
    "    template = 'plotly_dark'\n",
    ")\n",
    "fig.show()"
   ]
  },
  {
   "cell_type": "markdown",
   "id": "c9bea977-c629-46b7-917c-67b58d840e90",
   "metadata": {
    "jp-MarkdownHeadingCollapsed": true
   },
   "source": [
    "## Visualization of Name by Price"
   ]
  },
  {
   "cell_type": "code",
   "execution_count": null,
   "id": "5bec4689-2d1c-4d3c-a3ca-7b2470caf548",
   "metadata": {},
   "outputs": [],
   "source": [
    "fig = px.histogram(\n",
    "    x = 'price',\n",
    "    y = 'name',\n",
    "    data_frame = df,\n",
    "    title = 'Product Name Comparison by Price',\n",
    "    color = 'price',\n",
    "    color_discrete_sequence = px.colors.qualitative.Prism,\n",
    "    template = 'plotly_dark'\n",
    ")\n",
    "fig.show()"
   ]
  },
  {
   "cell_type": "code",
   "execution_count": null,
   "id": "df91e2d7-b492-4d5c-aa99-98bf215cc166",
   "metadata": {},
   "outputs": [],
   "source": []
  },
  {
   "cell_type": "code",
   "execution_count": null,
   "id": "d25e3419-fe54-418c-abc1-e69cb6ed4a36",
   "metadata": {},
   "outputs": [],
   "source": []
  }
 ],
 "metadata": {
  "kernelspec": {
   "display_name": "Python 3 (ipykernel)",
   "language": "python",
   "name": "python3"
  },
  "language_info": {
   "codemirror_mode": {
    "name": "ipython",
    "version": 3
   },
   "file_extension": ".py",
   "mimetype": "text/x-python",
   "name": "python",
   "nbconvert_exporter": "python",
   "pygments_lexer": "ipython3",
   "version": "3.13.5"
  }
 },
 "nbformat": 4,
 "nbformat_minor": 5
}
